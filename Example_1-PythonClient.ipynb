{
 "cells": [
  {
   "cell_type": "code",
   "execution_count": 1,
   "id": "a386c939-6614-4d0d-a979-f677a2733350",
   "metadata": {},
   "outputs": [],
   "source": [
    "from mistralai.client import MistralClient"
   ]
  },
  {
   "cell_type": "code",
   "execution_count": 2,
   "id": "f7db0594-7424-4808-8acf-b691347e43e5",
   "metadata": {},
   "outputs": [],
   "source": [
    "from mistralai.models.chat_completion import ChatMessage"
   ]
  },
  {
   "cell_type": "code",
   "execution_count": 3,
   "id": "dd719df6-c417-48c5-9d39-31abde93f0be",
   "metadata": {},
   "outputs": [],
   "source": [
    "with open(\"to_delete.txt\", \"r\") as fo:\n",
    "    api_key = fo.read()"
   ]
  },
  {
   "cell_type": "code",
   "execution_count": 4,
   "id": "4af7b087-4d79-41f0-b175-8ce71166b5d1",
   "metadata": {},
   "outputs": [],
   "source": [
    "client = MistralClient(api_key=api_key)"
   ]
  },
  {
   "cell_type": "code",
   "execution_count": 5,
   "id": "4c2790fd-4ecc-433e-a092-87ce1714da8c",
   "metadata": {},
   "outputs": [],
   "source": [
    "chats = []"
   ]
  },
  {
   "cell_type": "code",
   "execution_count": 6,
   "id": "c8c0c680-afe5-4294-940e-37974635681e",
   "metadata": {},
   "outputs": [],
   "source": [
    "def chat_completion_helper(chats, model=\"open-mistral-7b\"):\n",
    "    chat_response = client.chat(model = model, \n",
    "                                messages = chats)\n",
    "    message = chat_response.choices[0].message\n",
    "    chats.append(message)\n",
    "    return chats, message.content "
   ]
  },
  {
   "cell_type": "code",
   "execution_count": 7,
   "id": "fee546e5-1666-4358-a0e2-e676b5f0a730",
   "metadata": {},
   "outputs": [
    {
     "name": "stdin",
     "output_type": "stream",
     "text": [
      "Enter the text:  Hi, My Name is Ketan Kishore\n"
     ]
    },
    {
     "name": "stdout",
     "output_type": "stream",
     "text": [
      "Hello Ketan Kishore! It's nice to meet you. How can I assist you today?\n"
     ]
    }
   ],
   "source": [
    "chats.append(ChatMessage(role=\"user\", content=input(\"Enter the text: \")))\n",
    "chats, response = chat_completion_helper(chats, model=\"open-mistral-7b\")\n",
    "print(response)"
   ]
  },
  {
   "cell_type": "code",
   "execution_count": 8,
   "id": "ff92f28b-5256-40d9-85bc-e964c422f914",
   "metadata": {},
   "outputs": [
    {
     "name": "stdin",
     "output_type": "stream",
     "text": [
      "Enter the text:  Do you know the meaning of my name\n"
     ]
    },
    {
     "name": "stdout",
     "output_type": "stream",
     "text": [
      "Yes, I can help with that! The name Ketan means \"shining, glowing\" and is of Sanskrit origin. Kishore is a surname or middle name that is common in India, and it means \"youthful\" or \"young\" in Sanskrit. So, your name Ketan Kishore means \"shining youth\" or \"glowing young one\". Is that helpful?\n"
     ]
    }
   ],
   "source": [
    "chats.append(ChatMessage(role=\"user\", content=input(\"Enter the text: \")))\n",
    "chats, response = chat_completion_helper(chats, model=\"open-mistral-7b\")\n",
    "print(response)"
   ]
  },
  {
   "cell_type": "code",
   "execution_count": 9,
   "id": "a05baa46-37aa-4bd2-951b-a0ab4fa00587",
   "metadata": {},
   "outputs": [
    {
     "name": "stdin",
     "output_type": "stream",
     "text": [
      "Enter the text:  No, thats it, Can you introduce yourself\n"
     ]
    },
    {
     "name": "stdout",
     "output_type": "stream",
     "text": [
      "Of course! I am an assistant designed to help answer questions, provide information, and assist with various tasks. I don't have personal experiences or emotions, but I am here to help make your life easier. If you have any questions or need help with something, feel free to ask!\n"
     ]
    }
   ],
   "source": [
    "chats.append(ChatMessage(role=\"user\", content=input(\"Enter the text: \")))\n",
    "chats, response = chat_completion_helper(chats, model=\"open-mistral-7b\")\n",
    "print(response)"
   ]
  },
  {
   "cell_type": "code",
   "execution_count": 10,
   "id": "9de8db38-68ca-4564-80c3-562bd04dd31c",
   "metadata": {},
   "outputs": [
    {
     "name": "stdin",
     "output_type": "stream",
     "text": [
      "Enter the text:  ok, i want to know if you remember my name\n"
     ]
    },
    {
     "name": "stdout",
     "output_type": "stream",
     "text": [
      "Yes, I remember your name is Ketan Kishore. How can I assist you today, Ketan Kishore?\n"
     ]
    }
   ],
   "source": [
    "chats.append(ChatMessage(role=\"user\", content=input(\"Enter the text: \")))\n",
    "chats, response = chat_completion_helper(chats, model=\"open-mistral-7b\")\n",
    "print(response)"
   ]
  },
  {
   "cell_type": "code",
   "execution_count": 11,
   "id": "92a11b21-6c0d-427d-a761-ac7c283615f9",
   "metadata": {},
   "outputs": [
    {
     "name": "stdin",
     "output_type": "stream",
     "text": [
      "Enter the text:  i want to know about the founder of your company\n"
     ]
    },
    {
     "name": "stdout",
     "output_type": "stream",
     "text": [
      "The company I work for is a virtual assistant service, and I don't have a specific founder or company history. I am a software program designed to help answer questions and provide information, and I don't have personal experiences or emotions. If you have any other questions or need help with something, feel free to ask!\n"
     ]
    }
   ],
   "source": [
    "chats.append(ChatMessage(role=\"user\", content=input(\"Enter the text: \")))\n",
    "chats, response = chat_completion_helper(chats, model=\"open-mistral-7b\")\n",
    "print(response)"
   ]
  },
  {
   "cell_type": "code",
   "execution_count": null,
   "id": "d1e48ccc-1913-4f08-a396-937c86aefb49",
   "metadata": {},
   "outputs": [],
   "source": []
  },
  {
   "cell_type": "code",
   "execution_count": null,
   "id": "e290728c-3988-406a-8683-f6917deb896c",
   "metadata": {},
   "outputs": [],
   "source": []
  },
  {
   "cell_type": "code",
   "execution_count": null,
   "id": "d8540469-e687-4c0f-ba24-50f06b19a3f6",
   "metadata": {},
   "outputs": [],
   "source": []
  },
  {
   "cell_type": "code",
   "execution_count": null,
   "id": "ee81e0db-8e0e-4aa5-9087-a76bdda1529d",
   "metadata": {},
   "outputs": [],
   "source": []
  },
  {
   "cell_type": "code",
   "execution_count": null,
   "id": "ca1d2ea2-2329-4010-9754-a746c0b72bb4",
   "metadata": {},
   "outputs": [],
   "source": []
  }
 ],
 "metadata": {
  "kernelspec": {
   "display_name": "Python 3 (ipykernel)",
   "language": "python",
   "name": "python3"
  },
  "language_info": {
   "codemirror_mode": {
    "name": "ipython",
    "version": 3
   },
   "file_extension": ".py",
   "mimetype": "text/x-python",
   "name": "python",
   "nbconvert_exporter": "python",
   "pygments_lexer": "ipython3",
   "version": "3.9.19"
  }
 },
 "nbformat": 4,
 "nbformat_minor": 5
}
