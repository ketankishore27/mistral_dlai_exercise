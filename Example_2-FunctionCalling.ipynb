{
 "cells": [
  {
   "cell_type": "code",
   "execution_count": 14,
   "id": "ea9c19e8-56ee-4673-9883-1696d8784076",
   "metadata": {},
   "outputs": [],
   "source": [
    "from mistralai.client import MistralClient\n",
    "from mistralai.models.chat_completion import ChatMessage\n",
    "import pandas as pd\n",
    "import json"
   ]
  },
  {
   "cell_type": "code",
   "execution_count": 2,
   "id": "ae0b3ebe-178d-4372-8527-a4f626f10b0e",
   "metadata": {},
   "outputs": [],
   "source": [
    "with open(\"to_delete.txt\", \"r\") as fo:\n",
    "    api_key = fo.read()"
   ]
  },
  {
   "cell_type": "code",
   "execution_count": 40,
   "id": "26001522-9588-47b2-83d4-f87defca8932",
   "metadata": {},
   "outputs": [],
   "source": [
    "client = MistralClient(api_key=api_key)"
   ]
  },
  {
   "cell_type": "code",
   "execution_count": 4,
   "id": "fa305584-0026-43f6-b3c7-dd041d65d613",
   "metadata": {},
   "outputs": [],
   "source": [
    "chats = []"
   ]
  },
  {
   "cell_type": "code",
   "execution_count": 49,
   "id": "2a745cec-c010-4ed6-b916-3d026a7e9677",
   "metadata": {},
   "outputs": [],
   "source": [
    "data = \"\"\"\n",
    "    \"transaction_id\": [\"T1001\", \"T1002\", \"T1003\", \"T1004\", \"T1005\"],\n",
    "    \"customer_id\": [\"C001\", \"C002\", \"C003\", \"C002\", \"C001\"],\n",
    "    \"payment_amount\": [125.50, 89.99, 120.00, 54.30, 210.20],\n",
    "    \"payment_date\": [\n",
    "        \"2021-10-05\",\n",
    "        \"2021-10-06\",\n",
    "        \"2021-10-07\",\n",
    "        \"2021-10-05\",\n",
    "        \"2021-10-08\",\n",
    "    ],\n",
    "    \"payment_status\": [\"Paid\", \"Unpaid\", \"Paid\", \"Paid\", \"Pending\"],\n",
    "}\n",
    "\"\"\"\n",
    "transaction_id = \"T1001\"\n",
    "\n",
    "prompt1 = f\"\"\"\n",
    "Given the following data, what is the payment status for \\\n",
    " transaction_id={transaction_id}?\n",
    "\n",
    "data:\n",
    "{data}\n",
    "\n",
    "\"\"\"\n",
    "\n",
    "prompt2 = f\"\"\"\n",
    "Given the following data, what is the payment date for \\\n",
    " transaction_id={transaction_id}?\n",
    "\n",
    "data:\n",
    "{data}\n",
    "\n",
    "\"\"\""
   ]
  },
  {
   "cell_type": "code",
   "execution_count": 47,
   "id": "6b09601b-f13d-4fe2-aad3-18966afc7519",
   "metadata": {},
   "outputs": [],
   "source": [
    "def chat_completion_helper(content_msg, model=\"open-mistral-7b\"):\n",
    "    message = [ChatMessage(role=\"user\", content=content_msg)]\n",
    "    response = client.chat(model=model, messages=message)\n",
    "    \n",
    "    return response.choices[0].message.content"
   ]
  },
  {
   "cell_type": "code",
   "execution_count": 48,
   "id": "bed8833c-a8a6-48b7-ab69-c274961687b8",
   "metadata": {},
   "outputs": [
    {
     "data": {
      "text/plain": [
       "'To find the payment status for transaction_id T1001, we will look at the corresponding value in the \"payment_status\" list. From the given data, the payment status for transaction_id T1001 is \"Paid\".'"
      ]
     },
     "execution_count": 48,
     "metadata": {},
     "output_type": "execute_result"
    }
   ],
   "source": [
    "chat_completion_helper(prompt1)"
   ]
  },
  {
   "cell_type": "code",
   "execution_count": 50,
   "id": "879f96c0-a4ff-48f9-90ad-2aac622159ad",
   "metadata": {},
   "outputs": [
    {
     "data": {
      "text/plain": [
       "'Based on the provided data, the payment date for transaction_id T1001 is \"2021-10-05\".'"
      ]
     },
     "execution_count": 50,
     "metadata": {},
     "output_type": "execute_result"
    }
   ],
   "source": [
    "chat_completion_helper(prompt2)"
   ]
  },
  {
   "cell_type": "markdown",
   "id": "e38af0f5-8d8d-47d2-bfef-8b87856838d5",
   "metadata": {},
   "source": [
    "## 2nd Section"
   ]
  },
  {
   "cell_type": "code",
   "execution_count": 54,
   "id": "ebc8d4a4-c1c6-4a40-8542-67caf12e182f",
   "metadata": {},
   "outputs": [],
   "source": [
    "data = {\n",
    "    \"transaction_id\": [\"T1001\", \"T1002\", \"T1003\", \"T1004\", \"T1005\"],\n",
    "    \"customer_id\": [\"C001\", \"C002\", \"C003\", \"C002\", \"C001\"],\n",
    "    \"payment_amount\": [125.50, 89.99, 120.00, 54.30, 210.20],\n",
    "    \"payment_date\": [\n",
    "        \"2021-10-05\",\n",
    "        \"2021-10-06\",\n",
    "        \"2021-10-07\",\n",
    "        \"2021-10-05\",\n",
    "        \"2021-10-08\",\n",
    "    ],\n",
    "    \"payment_status\": [\"Paid\", \"Unpaid\", \"Paid\", \"Paid\", \"Pending\"],\n",
    "}\n",
    "df = pd.DataFrame(data)"
   ]
  },
  {
   "cell_type": "code",
   "execution_count": 51,
   "id": "1f914b9c-95cc-47ad-8049-236a25d1b0bd",
   "metadata": {},
   "outputs": [],
   "source": [
    "def retrieve_payment_status(df: data, transaction_id: str) -> str:\n",
    "    if transaction_id in df.transaction_id.values:\n",
    "        return json.dumps(\n",
    "            {\"status\": df[df.transaction_id == transaction_id].payment_status.item()}\n",
    "        )\n",
    "    return json.dumps({\"error\": \"transaction id not found.\"})"
   ]
  },
  {
   "cell_type": "code",
   "execution_count": 55,
   "id": "084978c3-a9a9-49f9-9c00-738e97e9f292",
   "metadata": {},
   "outputs": [
    {
     "name": "stdout",
     "output_type": "stream",
     "text": [
      "{\"status\": \"Paid\"}\n"
     ]
    }
   ],
   "source": [
    "status = retrieve_payment_status(df, transaction_id=\"T1001\")\n",
    "print(status)"
   ]
  },
  {
   "cell_type": "code",
   "execution_count": 53,
   "id": "9b2a775e-0034-4898-bfec-74194ec406a0",
   "metadata": {},
   "outputs": [],
   "source": [
    "def retrieve_payment_date(df: data, transaction_id: str) -> str:\n",
    "    if transaction_id in df.transaction_id.values:\n",
    "        return json.dumps(\n",
    "            {\"date\": df[df.transaction_id == transaction_id].payment_date.item()}\n",
    "        )\n",
    "    return json.dumps({\"error\": \"transaction id not found.\"})"
   ]
  },
  {
   "cell_type": "code",
   "execution_count": 160,
   "id": "206efb66-f227-4354-9360-2962700b9472",
   "metadata": {},
   "outputs": [],
   "source": [
    "def retrieve_payment_amount(df: data, transaction_id: str) -> str:\n",
    "    if transaction_id in df.transaction_id.values:\n",
    "        return json.dumps(\n",
    "            {\"amount\": df[df.transaction_id == transaction_id].payment_amount.item()}\n",
    "        )\n",
    "    return json.dumps({\"error\": \"transaction id not found.\"})"
   ]
  },
  {
   "cell_type": "code",
   "execution_count": 56,
   "id": "4ba92878-e83b-4157-b337-1b9ba72c378a",
   "metadata": {},
   "outputs": [
    {
     "name": "stdout",
     "output_type": "stream",
     "text": [
      "{\"date\": \"2021-10-06\"}\n"
     ]
    }
   ],
   "source": [
    "date = retrieve_payment_date(df, transaction_id=\"T1002\")\n",
    "print(date)"
   ]
  },
  {
   "cell_type": "code",
   "execution_count": 161,
   "id": "1fa28ab7-9365-4705-a90a-1082b92f4ba3",
   "metadata": {},
   "outputs": [],
   "source": [
    "tool_payment_status = {\n",
    "    \"type\": \"function\",\n",
    "    \"function\": {\n",
    "        \"name\": \"retrieve_payment_status\",\n",
    "        \"description\": \"Get payment status of a transaction\",\n",
    "        \"parameters\": {\n",
    "            \"type\": \"object\",\n",
    "            \"properties\": {\n",
    "                \"transaction_id\": {\n",
    "                    \"type\": \"string\",\n",
    "                    \"description\": \"The transaction id.\",\n",
    "                }\n",
    "            },\n",
    "            \"required\": [\"transaction_id\"],\n",
    "        },\n",
    "    },\n",
    "}"
   ]
  },
  {
   "cell_type": "code",
   "execution_count": 162,
   "id": "325df336-0f37-4884-9bff-524a8aa08541",
   "metadata": {},
   "outputs": [],
   "source": [
    "tool_payment_date = {\n",
    "    \"type\": \"function\",\n",
    "    \"function\": {\n",
    "        \"name\": \"retrieve_payment_date\",\n",
    "        \"description\": \"Get payment date of a transaction\",\n",
    "        \"parameters\": {\n",
    "            \"type\": \"object\",\n",
    "            \"properties\": {\n",
    "                \"transaction_id\": {\n",
    "                    \"type\": \"string\",\n",
    "                    \"description\": \"The transaction id.\",\n",
    "                }\n",
    "            },\n",
    "            \"required\": [\"transaction_id\"],\n",
    "        },\n",
    "    },\n",
    "}"
   ]
  },
  {
   "cell_type": "code",
   "execution_count": 163,
   "id": "1f366b1e-2453-43ca-ac1f-6d577808192d",
   "metadata": {},
   "outputs": [],
   "source": [
    "tool_payment_amount = {\n",
    "    \"type\": \"function\",\n",
    "    \"function\": {\n",
    "        \"name\": \"retrieve_payment_amount\",\n",
    "        \"description\": \"Get payment amount of a transaction\",\n",
    "        \"parameters\": {\n",
    "            \"type\": \"object\",\n",
    "            \"properties\": {\n",
    "                \"transaction_id\": {\n",
    "                    \"type\": \"string\",\n",
    "                    \"description\": \"The transaction id.\",\n",
    "                }\n",
    "            },\n",
    "            \"required\": [\"transaction_id\"],\n",
    "        },\n",
    "    },\n",
    "}"
   ]
  },
  {
   "cell_type": "code",
   "execution_count": 164,
   "id": "1a159db3-b258-4d92-8b02-885bb32f4794",
   "metadata": {},
   "outputs": [],
   "source": [
    "import functools\n",
    "names_to_function = {\n",
    "    \"retrieve_payment_status\": functools.partial(retrieve_payment_status, df=df),\n",
    "    \"retrieve_payment_date\": functools.partial(retrieve_payment_date, df=df),\n",
    "    \"retrieve_payment_amount\": functools.partial(retrieve_payment_amount, df=df),\n",
    "}"
   ]
  },
  {
   "cell_type": "code",
   "execution_count": 165,
   "id": "4089e07a-42ed-41de-8029-949f18496e0b",
   "metadata": {},
   "outputs": [
    {
     "data": {
      "text/plain": [
       "'{\"amount\": 125.5}'"
      ]
     },
     "execution_count": 165,
     "metadata": {},
     "output_type": "execute_result"
    }
   ],
   "source": [
    "names_to_function[\"retrieve_payment_amount\"](transaction_id=\"T1001\")"
   ]
  },
  {
   "cell_type": "code",
   "execution_count": 166,
   "id": "2ab79503-b50d-4a53-b136-39e3e141818a",
   "metadata": {},
   "outputs": [],
   "source": [
    "tools = [tool_payment_status, tool_payment_date, tool_payment_amount]"
   ]
  },
  {
   "cell_type": "code",
   "execution_count": 167,
   "id": "aa8a9b05-9f06-4d00-8118-149657291f1b",
   "metadata": {},
   "outputs": [
    {
     "data": {
      "text/plain": [
       "[{'type': 'function',\n",
       "  'function': {'name': 'retrieve_payment_status',\n",
       "   'description': 'Get payment status of a transaction',\n",
       "   'parameters': {'type': 'object',\n",
       "    'properties': {'transaction_id': {'type': 'string',\n",
       "      'description': 'The transaction id.'}},\n",
       "    'required': ['transaction_id']}}},\n",
       " {'type': 'function',\n",
       "  'function': {'name': 'retrieve_payment_date',\n",
       "   'description': 'Get payment date of a transaction',\n",
       "   'parameters': {'type': 'object',\n",
       "    'properties': {'transaction_id': {'type': 'string',\n",
       "      'description': 'The transaction id.'}},\n",
       "    'required': ['transaction_id']}}},\n",
       " {'type': 'function',\n",
       "  'function': {'name': 'retrieve_payment_amount',\n",
       "   'description': 'Get payment amount of a transaction',\n",
       "   'parameters': {'type': 'object',\n",
       "    'properties': {'transaction_id': {'type': 'string',\n",
       "      'description': 'The transaction id.'}},\n",
       "    'required': ['transaction_id']}}}]"
      ]
     },
     "execution_count": 167,
     "metadata": {},
     "output_type": "execute_result"
    }
   ],
   "source": [
    "tools"
   ]
  },
  {
   "cell_type": "code",
   "execution_count": 124,
   "id": "f669972b-765e-45bf-af2a-d36a99ef1484",
   "metadata": {},
   "outputs": [],
   "source": [
    "chats = []\n",
    "def chat_completion_helper(chats, model=\"mistral-large-latest\"):\n",
    "    print(chats, \"\\n\\n\\n\\n\")\n",
    "    response = client.chat(model=model, messages=chats, tools=tools, tool_choice=\"auto\")\n",
    "    chats.append(response.choices[0].message)\n",
    "    print(chats, \"\\n\\n\\n\\n\")\n",
    "    return chats"
   ]
  },
  {
   "cell_type": "code",
   "execution_count": 125,
   "id": "bcc8f197-a46d-4e0c-b91d-aa39d547aa68",
   "metadata": {},
   "outputs": [
    {
     "name": "stdin",
     "output_type": "stream",
     "text": [
      "Enter input text?:  What is the status of my transaction\n"
     ]
    },
    {
     "name": "stdout",
     "output_type": "stream",
     "text": [
      "[ChatMessage(role='user', content='What is the status of my transaction', name=None, tool_calls=None)] \n",
      "\n",
      "\n",
      "\n",
      "\n",
      "[ChatMessage(role='user', content='What is the status of my transaction', name=None, tool_calls=None), ChatMessage(role='assistant', content='To help you with that, I would need the transaction ID. Could you please provide it?', name=None, tool_calls=None)] \n",
      "\n",
      "\n",
      "\n",
      "\n"
     ]
    }
   ],
   "source": [
    "chats.append(ChatMessage(role=\"user\", content=input(\"Enter input text?: \")))\n",
    "chats = chat_completion_helper(chats=chats)"
   ]
  },
  {
   "cell_type": "code",
   "execution_count": 126,
   "id": "4f9df48f-b841-44ba-819b-489c2a437609",
   "metadata": {},
   "outputs": [
    {
     "data": {
      "text/plain": [
       "[ChatMessage(role='user', content='What is the status of my transaction', name=None, tool_calls=None),\n",
       " ChatMessage(role='assistant', content='To help you with that, I would need the transaction ID. Could you please provide it?', name=None, tool_calls=None)]"
      ]
     },
     "execution_count": 126,
     "metadata": {},
     "output_type": "execute_result"
    }
   ],
   "source": [
    "chats"
   ]
  },
  {
   "cell_type": "code",
   "execution_count": 127,
   "id": "b688a1ee-1280-4a4a-bcbf-8bd015fa36e5",
   "metadata": {},
   "outputs": [
    {
     "name": "stdin",
     "output_type": "stream",
     "text": [
      "Enter input text?:  My transaction_id is T1001\n"
     ]
    },
    {
     "name": "stdout",
     "output_type": "stream",
     "text": [
      "[ChatMessage(role='user', content='What is the status of my transaction', name=None, tool_calls=None), ChatMessage(role='assistant', content='To help you with that, I would need the transaction ID. Could you please provide it?', name=None, tool_calls=None), ChatMessage(role='user', content='My transaction_id is T1001', name=None, tool_calls=None)] \n",
      "\n",
      "\n",
      "\n",
      "\n",
      "[ChatMessage(role='user', content='What is the status of my transaction', name=None, tool_calls=None), ChatMessage(role='assistant', content='To help you with that, I would need the transaction ID. Could you please provide it?', name=None, tool_calls=None), ChatMessage(role='user', content='My transaction_id is T1001', name=None, tool_calls=None), ChatMessage(role='assistant', content='', name=None, tool_calls=[ToolCall(id='MECJrjeIz', type=<ToolType.function: 'function'>, function=FunctionCall(name='retrieve_payment_status', arguments='{\"transaction_id\": \"T1001\"}'))])] \n",
      "\n",
      "\n",
      "\n",
      "\n"
     ]
    }
   ],
   "source": [
    "chats.append(ChatMessage(role=\"user\", content=input(\"Enter input text?: \")))\n",
    "chats = chat_completion_helper(chats=chats)"
   ]
  },
  {
   "cell_type": "code",
   "execution_count": 145,
   "id": "f4d7ce10-befb-4dba-ad03-0e746c66f763",
   "metadata": {},
   "outputs": [],
   "source": [
    "function_name = chats[-1].tool_calls[0].function.name\n",
    "function_arg = chats[-1].tool_calls[0].function.arguments"
   ]
  },
  {
   "cell_type": "code",
   "execution_count": 147,
   "id": "c9d32a29-2f30-4389-8eb0-7024022d546b",
   "metadata": {},
   "outputs": [
    {
     "data": {
      "text/plain": [
       "('retrieve_payment_status', {'transaction_id': 'T1001'})"
      ]
     },
     "execution_count": 147,
     "metadata": {},
     "output_type": "execute_result"
    }
   ],
   "source": [
    "function_name, json.loads(function_arg)"
   ]
  },
  {
   "cell_type": "code",
   "execution_count": 152,
   "id": "3eb3c1e3-38d5-4bc1-b6fb-3d9d757e9af1",
   "metadata": {},
   "outputs": [
    {
     "data": {
      "text/plain": [
       "'{\"status\": \"Paid\"}'"
      ]
     },
     "execution_count": 152,
     "metadata": {},
     "output_type": "execute_result"
    }
   ],
   "source": [
    "names_to_function[function_name](**json.loads(function_arg))"
   ]
  },
  {
   "cell_type": "code",
   "execution_count": null,
   "id": "6f3cf115-31f0-4798-9188-8d3a4234a9d5",
   "metadata": {},
   "outputs": [],
   "source": []
  },
  {
   "cell_type": "markdown",
   "id": "45fd7d41-7d95-4a4d-a88c-6798f490dad9",
   "metadata": {},
   "source": [
    "## Exercise2"
   ]
  },
  {
   "cell_type": "code",
   "execution_count": 168,
   "id": "7d25bb5a-76bf-4820-89bc-299ea71c5ec2",
   "metadata": {},
   "outputs": [
    {
     "name": "stdin",
     "output_type": "stream",
     "text": [
      "Enter input text?:  How much did I pay my recent order\n"
     ]
    },
    {
     "name": "stdout",
     "output_type": "stream",
     "text": [
      "[ChatMessage(role='user', content='How much did I pay my recent order', name=None, tool_calls=None)] \n",
      "\n",
      "\n",
      "\n",
      "\n",
      "[ChatMessage(role='user', content='How much did I pay my recent order', name=None, tool_calls=None), ChatMessage(role='assistant', content='To retrieve the payment amount of a transaction, I need the transaction id. Please provide me with the transaction id.', name=None, tool_calls=None)] \n",
      "\n",
      "\n",
      "\n",
      "\n"
     ]
    }
   ],
   "source": [
    "chats = []\n",
    "chats.append(ChatMessage(role=\"user\", content=input(\"Enter input text?: \")))\n",
    "chats = chat_completion_helper(chats=chats)"
   ]
  },
  {
   "cell_type": "code",
   "execution_count": 169,
   "id": "312cf857-169b-417d-a1f3-73df662e1deb",
   "metadata": {},
   "outputs": [
    {
     "name": "stdin",
     "output_type": "stream",
     "text": [
      "Enter input text?:  My transaction id is T1002\n"
     ]
    },
    {
     "name": "stdout",
     "output_type": "stream",
     "text": [
      "[ChatMessage(role='user', content='How much did I pay my recent order', name=None, tool_calls=None), ChatMessage(role='assistant', content='To retrieve the payment amount of a transaction, I need the transaction id. Please provide me with the transaction id.', name=None, tool_calls=None), ChatMessage(role='user', content='My transaction id is T1002', name=None, tool_calls=None)] \n",
      "\n",
      "\n",
      "\n",
      "\n",
      "[ChatMessage(role='user', content='How much did I pay my recent order', name=None, tool_calls=None), ChatMessage(role='assistant', content='To retrieve the payment amount of a transaction, I need the transaction id. Please provide me with the transaction id.', name=None, tool_calls=None), ChatMessage(role='user', content='My transaction id is T1002', name=None, tool_calls=None), ChatMessage(role='assistant', content='', name=None, tool_calls=[ToolCall(id='EMUemtaka', type=<ToolType.function: 'function'>, function=FunctionCall(name='retrieve_payment_amount', arguments='{\"transaction_id\": \"T1002\"}'))])] \n",
      "\n",
      "\n",
      "\n",
      "\n"
     ]
    }
   ],
   "source": [
    "chats.append(ChatMessage(role=\"user\", content=input(\"Enter input text?: \")))\n",
    "chats = chat_completion_helper(chats=chats)"
   ]
  },
  {
   "cell_type": "code",
   "execution_count": 184,
   "id": "670fc609-d4cd-4137-8ba3-5e5accc3f1fb",
   "metadata": {},
   "outputs": [],
   "source": [
    "name = chats[-1].tool_calls[0].function.name\n",
    "arguments = json.loads(chats[-1].tool_calls[0].function.arguments)"
   ]
  },
  {
   "cell_type": "code",
   "execution_count": 186,
   "id": "4ced7fa1-ba6c-42c5-a7b8-30c97cb9846a",
   "metadata": {},
   "outputs": [
    {
     "data": {
      "text/plain": [
       "'{\"amount\": 89.99}'"
      ]
     },
     "execution_count": 186,
     "metadata": {},
     "output_type": "execute_result"
    }
   ],
   "source": [
    "names_to_function[name](**arguments)"
   ]
  },
  {
   "cell_type": "code",
   "execution_count": null,
   "id": "6f09cf91-1f92-490d-af78-d7933040953d",
   "metadata": {},
   "outputs": [],
   "source": []
  },
  {
   "cell_type": "code",
   "execution_count": null,
   "id": "f85c5b5f-ec99-43b4-86a5-126c3d17d1a8",
   "metadata": {},
   "outputs": [],
   "source": []
  },
  {
   "cell_type": "code",
   "execution_count": null,
   "id": "ce49b58a-27b7-4d74-9117-c495011bc613",
   "metadata": {},
   "outputs": [],
   "source": []
  },
  {
   "cell_type": "code",
   "execution_count": null,
   "id": "a10826a0-9550-4b4e-a5aa-42914656dc94",
   "metadata": {},
   "outputs": [],
   "source": []
  }
 ],
 "metadata": {
  "kernelspec": {
   "display_name": "Python 3 (ipykernel)",
   "language": "python",
   "name": "python3"
  },
  "language_info": {
   "codemirror_mode": {
    "name": "ipython",
    "version": 3
   },
   "file_extension": ".py",
   "mimetype": "text/x-python",
   "name": "python",
   "nbconvert_exporter": "python",
   "pygments_lexer": "ipython3",
   "version": "3.9.19"
  }
 },
 "nbformat": 4,
 "nbformat_minor": 5
}
